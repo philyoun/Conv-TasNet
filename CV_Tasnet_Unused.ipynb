{
 "cells": [
  {
   "cell_type": "markdown",
   "metadata": {},
   "source": [
    "# Unused things in ConvTasNet"
   ]
  },
  {
   "cell_type": "code",
   "execution_count": null,
   "metadata": {},
   "outputs": [],
   "source": [
    "# 아 근데 이렇게 segments들 모으는거 너무 길다. 함수로 만들어야할 듯.\n",
    "def get_segments(drawn_numbers, input_files, target_files1, target_files2, seconds=8000*4):\n",
    "    selected_train_input_files = [input_files[idx] for idx in drawn_numbers]\n",
    "    selected_train_target_files1 = [target_files1[idx] for idx in drawn_numbers]\n",
    "    selected_train_target_files2 = [target_files2[idx] for idx in drawn_numbers]\n",
    "    \n",
    "    input_segments = []\n",
    "    target_segments1 = []\n",
    "    target_segments2 = []\n",
    "    \n",
    "    for input_file in selected_train_input_files:\n",
    "        input_file_segments = [block for block in sf.blocks(input_file, blocksize=seconds)][:-1] # drop the last one\n",
    "        input_segments += input_file_segments\n",
    "    for target_file1 in selected_train_target_files1:\n",
    "        target_file_segments1 = [block for block in sf.blocks(target_file1, blocksize=seconds)][:-1]\n",
    "        target_segments1 += target_file_segments1\n",
    "    for target_file2 in selected_train_target_files2:\n",
    "        target_file_segments2 = [block for block in sf.blocks(target_file2, blocksize=seconds)][:-1]\n",
    "        target_segments2 += target_file_segments2\n",
    "    \n",
    "    return input_segments, target_segments1, target_segments2"
   ]
  },
  {
   "cell_type": "code",
   "execution_count": null,
   "metadata": {},
   "outputs": [],
   "source": [
    "def generate_ds(j, input_segments, target_segments1, target_segments2, \n",
    "                BATCH_SIZE=64, window_length=16, shift_length=8):\n",
    "    \n",
    "    start_idx = BATCH_SIZE * j\n",
    "    end_idx = BATCH_SIZE * (j+1)\n",
    "    \n",
    "    samples_inp = np.array_split(input_segments[start_idx:end_idx], BATCH_SIZE)\n",
    "    samples_inp = np.asarray(samples_inp)\n",
    "    samples_inp = np.squeeze(samples_inp)\n",
    "    datasets_inp = []\n",
    "    for inp_sample in samples_inp:\n",
    "        ds_inp = tf.data.Dataset.from_tensor_slices(inp_sample)\n",
    "        ds_inp = ds_inp.window(window_length, shift=shift_length, drop_remainder=True)\n",
    "        ds_inp = ds_inp.flat_map(lambda window: window.batch(window_length))\n",
    "        datasets_inp.append(ds_inp)\n",
    "    inp_ds = tf.data.Dataset.zip(tuple(datasets_inp)).map(lambda *windows: tf.stack(windows))\n",
    "    inp_ds = inp_ds.map(lambda x: tf.expand_dims(x, axis=-1))\n",
    "    \n",
    "    samples_tar1 = np.array_split(target_segments1[start_idx:end_idx], BATCH_SIZE)\n",
    "    samples_tar1 = np.asarray(samples_tar1)\n",
    "    samples_tar1 = np.squeeze(samples_tar1)\n",
    "    datasets_tar1 = []\n",
    "    for tar_sample1 in samples_tar1:\n",
    "        ds_tar1 = tf.data.Dataset.from_tensor_slices(tar_sample1)\n",
    "        ds_tar1 = ds_tar1.window(window_length, shift=shift_length, drop_remainder=True)\n",
    "        ds_tar1 = ds_tar1.flat_map(lambda window: window.batch(window_length))\n",
    "        datasets_tar1.append(ds_tar1)\n",
    "    tar_ds1 = tf.data.Dataset.zip(tuple(datasets_tar1)).map(lambda *windows: tf.stack(windows))\n",
    "    tar_ds1 = tar_ds1.map(lambda x: tf.expand_dims(x, axis=-1))\n",
    "    \n",
    "    samples_tar2 = np.array_split(target_segments2[start_idx:end_idx], BATCH_SIZE)\n",
    "    samples_tar2 = np.asarray(samples_tar2)\n",
    "    samples_tar2 = np.squeeze(samples_tar2)\n",
    "    datasets_tar2 = []\n",
    "    for tar_sample2 in samples_tar2:\n",
    "        ds_tar2 = tf.data.Dataset.from_tensor_slices(tar_sample2)\n",
    "        ds_tar2 = ds_tar2.window(window_length, shift=shift_length, drop_remainder=True)\n",
    "        ds_tar2 = ds_tar2.flat_map(lambda window: window.batch(window_length))\n",
    "        datasets_tar2.append(ds_tar2)\n",
    "    tar_ds2 = tf.data.Dataset.zip(tuple(datasets_tar2)).map(lambda *windows: tf.stack(windows))\n",
    "    tar_ds2 = tar_ds2.map(lambda x: tf.expand_dims(x, axis=-1))\n",
    "    \n",
    "    ds_total = [inp_ds, tar_ds1, tar_ds2]\n",
    "    total_ds = tf.data.Dataset.zip(tuple(ds_total))\n",
    "    \n",
    "    return total_ds"
   ]
  }
 ],
 "metadata": {
  "kernelspec": {
   "display_name": "Python 3",
   "language": "python",
   "name": "python3"
  },
  "language_info": {
   "codemirror_mode": {
    "name": "ipython",
    "version": 3
   },
   "file_extension": ".py",
   "mimetype": "text/x-python",
   "name": "python",
   "nbconvert_exporter": "python",
   "pygments_lexer": "ipython3",
   "version": "3.8.5"
  }
 },
 "nbformat": 4,
 "nbformat_minor": 4
}
